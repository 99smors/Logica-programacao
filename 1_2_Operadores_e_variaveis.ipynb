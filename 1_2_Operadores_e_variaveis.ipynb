{
  "nbformat": 4,
  "nbformat_minor": 0,
  "metadata": {
    "colab": {
      "provenance": [],
      "toc_visible": true
    },
    "kernelspec": {
      "name": "python3",
      "display_name": "Python 3"
    },
    "language_info": {
      "name": "python"
    }
  },
  "cells": [
    {
      "cell_type": "markdown",
      "source": [
        "Operadores Aritmeticos"
      ],
      "metadata": {
        "id": "iTOCgkAS2svx"
      }
    },
    {
      "cell_type": "code",
      "execution_count": null,
      "metadata": {
        "colab": {
          "base_uri": "https://localhost:8080/"
        },
        "id": "nY3f2Rms1-J0",
        "outputId": "27b8def7-7cb5-4eda-ae62-0efe626b2309"
      },
      "outputs": [
        {
          "output_type": "execute_result",
          "data": {
            "text/plain": [
              "12"
            ]
          },
          "metadata": {},
          "execution_count": 7
        }
      ],
      "source": [
        "# Adicao\n",
        "10 + 2"
      ]
    },
    {
      "cell_type": "code",
      "source": [
        "# subtracao\n",
        "10 - 2"
      ],
      "metadata": {
        "colab": {
          "base_uri": "https://localhost:8080/"
        },
        "id": "i7Pj33yj2E8N",
        "outputId": "2360b5fc-7fc4-46f4-fb8a-575ef15c6341"
      },
      "execution_count": null,
      "outputs": [
        {
          "output_type": "execute_result",
          "data": {
            "text/plain": [
              "8"
            ]
          },
          "metadata": {},
          "execution_count": 8
        }
      ]
    },
    {
      "cell_type": "code",
      "source": [
        "# divisao\n",
        "10 / 2\n"
      ],
      "metadata": {
        "colab": {
          "base_uri": "https://localhost:8080/"
        },
        "id": "TUdcKXJ62hUY",
        "outputId": "74b52f97-0981-4050-e2e4-5457ba43065f"
      },
      "execution_count": null,
      "outputs": [
        {
          "output_type": "execute_result",
          "data": {
            "text/plain": [
              "5.0"
            ]
          },
          "metadata": {},
          "execution_count": 9
        }
      ]
    },
    {
      "cell_type": "code",
      "source": [
        "# Multiplicacao\n",
        "10 * 2\n"
      ],
      "metadata": {
        "colab": {
          "base_uri": "https://localhost:8080/"
        },
        "id": "4qk9XdEY2qky",
        "outputId": "fc71447f-1ad3-4f8a-a063-dc9416566da0"
      },
      "execution_count": null,
      "outputs": [
        {
          "output_type": "execute_result",
          "data": {
            "text/plain": [
              "20"
            ]
          },
          "metadata": {},
          "execution_count": 10
        }
      ]
    },
    {
      "cell_type": "code",
      "source": [
        "# Divisao Inteira\n",
        "10 // 2\n"
      ],
      "metadata": {
        "colab": {
          "base_uri": "https://localhost:8080/"
        },
        "id": "8wQPuyZ_2qbS",
        "outputId": "1f46b860-8b07-4d43-9d41-e3f29f0c5470"
      },
      "execution_count": null,
      "outputs": [
        {
          "output_type": "execute_result",
          "data": {
            "text/plain": [
              "5"
            ]
          },
          "metadata": {},
          "execution_count": 11
        }
      ]
    },
    {
      "cell_type": "code",
      "source": [
        "# Resto da Divisao\n",
        "10 % 2\n"
      ],
      "metadata": {
        "colab": {
          "base_uri": "https://localhost:8080/"
        },
        "id": "WvPNd7QZ2qQI",
        "outputId": "27083b75-11fe-4269-ac8d-0b677ae2625e"
      },
      "execution_count": null,
      "outputs": [
        {
          "output_type": "execute_result",
          "data": {
            "text/plain": [
              "0"
            ]
          },
          "metadata": {},
          "execution_count": 12
        }
      ]
    },
    {
      "cell_type": "code",
      "source": [
        "# Potenciacao\n",
        "10 ** 2"
      ],
      "metadata": {
        "colab": {
          "base_uri": "https://localhost:8080/"
        },
        "id": "WQQd7YqH3Nt6",
        "outputId": "f2bb0812-c55b-4d77-f82e-470d96f65ba1"
      },
      "execution_count": null,
      "outputs": [
        {
          "output_type": "execute_result",
          "data": {
            "text/plain": [
              "100"
            ]
          },
          "metadata": {},
          "execution_count": 13
        }
      ]
    },
    {
      "cell_type": "markdown",
      "source": [
        "Operadores Relacionais"
      ],
      "metadata": {
        "id": "el6Q6v133dsZ"
      }
    },
    {
      "cell_type": "code",
      "source": [
        "# Menor\n",
        "10 < 2\n"
      ],
      "metadata": {
        "colab": {
          "base_uri": "https://localhost:8080/"
        },
        "id": "LWBfBEaH3k9s",
        "outputId": "aa2ab704-5ef2-4fad-e808-9ddac08dc44e"
      },
      "execution_count": null,
      "outputs": [
        {
          "output_type": "execute_result",
          "data": {
            "text/plain": [
              "False"
            ]
          },
          "metadata": {},
          "execution_count": 14
        }
      ]
    },
    {
      "cell_type": "code",
      "source": [
        "# Menor Ou Igual\n",
        "10 <= 2"
      ],
      "metadata": {
        "colab": {
          "base_uri": "https://localhost:8080/"
        },
        "id": "wevt1_ll3mDq",
        "outputId": "5ea35fde-af27-4274-e91d-9f0956ac7c1c"
      },
      "execution_count": null,
      "outputs": [
        {
          "output_type": "execute_result",
          "data": {
            "text/plain": [
              "False"
            ]
          },
          "metadata": {},
          "execution_count": 15
        }
      ]
    },
    {
      "cell_type": "code",
      "source": [
        "# Maior\n",
        "10 > 2"
      ],
      "metadata": {
        "colab": {
          "base_uri": "https://localhost:8080/"
        },
        "id": "1LMTRva33l_L",
        "outputId": "358dd4cf-b0ef-46a6-c93a-b3559b0c79e5"
      },
      "execution_count": null,
      "outputs": [
        {
          "output_type": "execute_result",
          "data": {
            "text/plain": [
              "True"
            ]
          },
          "metadata": {},
          "execution_count": 16
        }
      ]
    },
    {
      "cell_type": "code",
      "source": [
        "# Maior ou Igual\n",
        "10 >= 2"
      ],
      "metadata": {
        "colab": {
          "base_uri": "https://localhost:8080/"
        },
        "id": "itRzKZpE3l7p",
        "outputId": "bbdecb2e-dd2d-4f80-cfa4-6e1c9fb2fce5"
      },
      "execution_count": null,
      "outputs": [
        {
          "output_type": "execute_result",
          "data": {
            "text/plain": [
              "True"
            ]
          },
          "metadata": {},
          "execution_count": 17
        }
      ]
    },
    {
      "cell_type": "code",
      "source": [
        "# Igual\n",
        "7 == 7\n"
      ],
      "metadata": {
        "colab": {
          "base_uri": "https://localhost:8080/"
        },
        "id": "j-w1Ucz24BPL",
        "outputId": "82997653-47fe-4bef-ecef-5e3099ec2f61"
      },
      "execution_count": null,
      "outputs": [
        {
          "output_type": "execute_result",
          "data": {
            "text/plain": [
              "True"
            ]
          },
          "metadata": {},
          "execution_count": 18
        }
      ]
    },
    {
      "cell_type": "code",
      "source": [
        "# Diferente\n",
        "7 != 7"
      ],
      "metadata": {
        "colab": {
          "base_uri": "https://localhost:8080/"
        },
        "id": "a76CA6qn4BGs",
        "outputId": "8b061214-0ca6-4f7b-ecad-4ec3b44a7c15"
      },
      "execution_count": null,
      "outputs": [
        {
          "output_type": "execute_result",
          "data": {
            "text/plain": [
              "False"
            ]
          },
          "metadata": {},
          "execution_count": 19
        }
      ]
    },
    {
      "cell_type": "markdown",
      "source": [
        "Operadores Logicos\n",
        "\n",
        "\n",
        "\n",
        "*   And\n",
        "*    Or\n",
        "*   Not\n",
        "\n",
        "\n",
        "\n"
      ],
      "metadata": {
        "id": "N970b3Y04jhr"
      }
    },
    {
      "cell_type": "markdown",
      "source": [
        "Tabela Verdade\n",
        "\n",
        "\n",
        "And"
      ],
      "metadata": {
        "id": "ER26MN3u5lX6"
      }
    },
    {
      "cell_type": "code",
      "source": [
        "print(10 > 2 and 4 < 6)      # V and V - V\n",
        "print(10 > 2 and 4 > 6)      # V and F - F\n",
        "print(10 < 2 and 4 < 6)      # V and F - F\n",
        "print(10 < 2 and 4 > 6)       # F and F - F"
      ],
      "metadata": {
        "colab": {
          "base_uri": "https://localhost:8080/"
        },
        "id": "0zsINxJr5WWy",
        "outputId": "29eefd08-00ec-4ffd-bb73-ac176f386633"
      },
      "execution_count": null,
      "outputs": [
        {
          "output_type": "stream",
          "name": "stdout",
          "text": [
            "True\n",
            "False\n",
            "False\n",
            "False\n"
          ]
        }
      ]
    },
    {
      "cell_type": "markdown",
      "source": [
        "Or"
      ],
      "metadata": {
        "id": "Y5pRz3hM62uP"
      }
    },
    {
      "cell_type": "code",
      "source": [
        "print(10 > 2 or 4 < 6)      # V or V - V\n",
        "print(10 > 2 or 4 > 6)      # V or F - F\n",
        "print(10 < 2 or 4 < 6)      # V or F - F\n",
        "print(10 < 2 or 4 > 6)      # F or F - F"
      ],
      "metadata": {
        "colab": {
          "base_uri": "https://localhost:8080/"
        },
        "id": "jeHdbUo464Eh",
        "outputId": "c16e5bfe-c82f-4d48-8737-9ab227d67a54"
      },
      "execution_count": null,
      "outputs": [
        {
          "output_type": "stream",
          "name": "stdout",
          "text": [
            "True\n",
            "True\n",
            "True\n",
            "False\n"
          ]
        }
      ]
    },
    {
      "cell_type": "markdown",
      "source": [
        "Not"
      ],
      "metadata": {
        "id": "2WVBaUp_7Rsj"
      }
    },
    {
      "cell_type": "code",
      "source": [
        "not 10 > 2      # V - F"
      ],
      "metadata": {
        "colab": {
          "base_uri": "https://localhost:8080/"
        },
        "id": "n7xsvNFw7TLZ",
        "outputId": "33d374b2-e7d8-4708-e4be-89c45ddcf0a9"
      },
      "execution_count": null,
      "outputs": [
        {
          "output_type": "execute_result",
          "data": {
            "text/plain": [
              "False"
            ]
          },
          "metadata": {},
          "execution_count": 22
        }
      ]
    },
    {
      "cell_type": "code",
      "source": [
        "not 10 < 2    # F - V"
      ],
      "metadata": {
        "colab": {
          "base_uri": "https://localhost:8080/"
        },
        "id": "Pn0hs77o7cbR",
        "outputId": "c026fa56-5455-409c-8d61-19a993f82332"
      },
      "execution_count": null,
      "outputs": [
        {
          "output_type": "execute_result",
          "data": {
            "text/plain": [
              "True"
            ]
          },
          "metadata": {},
          "execution_count": 23
        }
      ]
    },
    {
      "cell_type": "markdown",
      "source": [
        "Variaveis\n",
        "\n",
        "Estao alocadas em espacos na memoria"
      ],
      "metadata": {
        "id": "1u3OyNOP8HyC"
      }
    },
    {
      "cell_type": "code",
      "source": [
        "# Nome da variavel e \"x\" que armazena o valor 10 em um espaco na maemoria\n",
        "x = 10\n",
        "print(X) # utilizar a referencia no nome atibuido"
      ],
      "metadata": {
        "colab": {
          "base_uri": "https://localhost:8080/",
          "height": 176
        },
        "id": "bWIQPrzX8Lb_",
        "outputId": "60add9da-d344-4a00-bb11-f5cf8eed0c7f"
      },
      "execution_count": null,
      "outputs": [
        {
          "output_type": "error",
          "ename": "NameError",
          "evalue": "name 'X' is not defined",
          "traceback": [
            "\u001b[0;31m---------------------------------------------------------------------------\u001b[0m",
            "\u001b[0;31mNameError\u001b[0m                                 Traceback (most recent call last)",
            "\u001b[0;32m/tmp/ipython-input-24-3044008633.py\u001b[0m in \u001b[0;36m<cell line: 0>\u001b[0;34m()\u001b[0m\n\u001b[1;32m      1\u001b[0m \u001b[0;31m# Nome da variavel e \"x\" que armazena o valor 10 em um espaco na maemoria\u001b[0m\u001b[0;34m\u001b[0m\u001b[0;34m\u001b[0m\u001b[0m\n\u001b[1;32m      2\u001b[0m \u001b[0mx\u001b[0m \u001b[0;34m=\u001b[0m \u001b[0;36m10\u001b[0m\u001b[0;34m\u001b[0m\u001b[0;34m\u001b[0m\u001b[0m\n\u001b[0;32m----> 3\u001b[0;31m \u001b[0mprint\u001b[0m\u001b[0;34m(\u001b[0m\u001b[0mX\u001b[0m\u001b[0;34m)\u001b[0m \u001b[0;31m# utilizar a referencia no nome atibuido\u001b[0m\u001b[0;34m\u001b[0m\u001b[0;34m\u001b[0m\u001b[0m\n\u001b[0m",
            "\u001b[0;31mNameError\u001b[0m: name 'X' is not defined"
          ]
        }
      ]
    },
    {
      "cell_type": "markdown",
      "source": [
        "regras"
      ],
      "metadata": {
        "id": "Cx4L8Z768syt"
      }
    },
    {
      "cell_type": "markdown",
      "source": [
        "**case sensitive**\n",
        "A ! = a\n",
        "\n",
        "** Boas Praticas com Variaveis**\n",
        "\n",
        "> Exemplo: Multiplicacao de 2 numeros\n",
        "\n",
        "Nao usar\n",
        "* Multiplicacao\n",
        "* MultiplicaoDeDoisNumeros\n",
        "* M\n",
        "\n",
        "\n",
        "Usar\n",
        "* multiplicao\n",
        "* mult\n",
        "* mult_total (snake case)"
      ],
      "metadata": {
        "id": "hwWOkDg68v6u"
      }
    },
    {
      "cell_type": "markdown",
      "source": [
        "Visualizacao de Variaveis e Textos"
      ],
      "metadata": {
        "id": "h4osLISMDQzi"
      }
    },
    {
      "cell_type": "code",
      "source": [
        "print('Conhecendo o comando Print')\n",
        "x = 8\n",
        "print(x)"
      ],
      "metadata": {
        "id": "OV8YdUohDV1X"
      },
      "execution_count": null,
      "outputs": []
    },
    {
      "cell_type": "code",
      "source": [
        "y = 10\n",
        "soma = x + y\n",
        "print(soma)"
      ],
      "metadata": {
        "id": "dObOeYxCDgg4"
      },
      "execution_count": null,
      "outputs": []
    },
    {
      "cell_type": "code",
      "source": [
        "nome = 'Rodrigo Reboucas'\n",
        "print (nome)"
      ],
      "metadata": {
        "id": "RHJanGPWDnD5"
      },
      "execution_count": null,
      "outputs": []
    },
    {
      "cell_type": "markdown",
      "source": [
        "Concatenacao\n"
      ],
      "metadata": {
        "id": "qKi2PVjdEK5l"
      }
    },
    {
      "cell_type": "code",
      "source": [
        " x = 5\n",
        " print('O valor de x e', x)"
      ],
      "metadata": {
        "id": "0uUruneIEPJj"
      },
      "execution_count": null,
      "outputs": []
    },
    {
      "cell_type": "code",
      "source": [
        "print('O valor de x e' ,x,'e o dobro e' ,x * 2)"
      ],
      "metadata": {
        "id": "QIWYAi4dEZcO"
      },
      "execution_count": null,
      "outputs": []
    },
    {
      "cell_type": "code",
      "source": [
        "print('Eu,' , nome, 'tirei' , x, 'na prova de Python')"
      ],
      "metadata": {
        "id": "KQiAeviwEwUi"
      },
      "execution_count": null,
      "outputs": []
    },
    {
      "cell_type": "code",
      "source": [
        "y = 10; z=20 + x - y\n",
        "\n",
        "print('Declarar varias variaveis na memsa linha:' , y, z)"
      ],
      "metadata": {
        "id": "PDvQR2zZE82I"
      },
      "execution_count": null,
      "outputs": []
    },
    {
      "cell_type": "markdown",
      "source": [
        "Type"
      ],
      "metadata": {
        "id": "Q-1lvCDgF4WU"
      }
    },
    {
      "cell_type": "code",
      "source": [
        "x = 10\n",
        "type(x)\n",
        "print('x' , type(x))\n",
        "\n",
        "nome ='Rodrigo'\n",
        "print('nome', type(nome))\n",
        "\n",
        "num ='100'\n",
        "num_convert =int(num)   # Converter Variavel\n",
        "print('num', type(num))\n",
        "print('num_conver' , type(num_convert))\n",
        "\n",
        "num_float = float(num)\n",
        "print('num_float', num_float)"
      ],
      "metadata": {
        "id": "3FWV3zqYF7cw"
      },
      "execution_count": null,
      "outputs": []
    },
    {
      "cell_type": "markdown",
      "source": [
        "Input\n",
        "\n",
        "\n",
        "*   Armazenar a informacao digitada pelo usuarios em uma variavel\n",
        "*   O dado  armazenado sempre sera um texto\n",
        "\n"
      ],
      "metadata": {
        "id": "xpZ-r242HPTf"
      }
    },
    {
      "cell_type": "code",
      "source": [
        "nome = input (\"Digite o nome do usuario\") # Aguarda o usuario digitar algo"
      ],
      "metadata": {
        "id": "rP1bNtFnHew5"
      },
      "execution_count": null,
      "outputs": []
    },
    {
      "cell_type": "code",
      "source": [
        "valor = input ('Digite a nota')\n",
        "print(nome, 'sua nota foi' , valor)"
      ],
      "metadata": {
        "id": "SBfCQZExHf7P"
      },
      "execution_count": null,
      "outputs": []
    },
    {
      "cell_type": "code",
      "source": [
        "valor = input ('Digite o valor do produto: ')\n",
        "print(valor)"
      ],
      "metadata": {
        "id": "C5ZnAbYsHfyc"
      },
      "execution_count": null,
      "outputs": []
    },
    {
      "cell_type": "code",
      "source": [
        "desconto =  int(valor) - 5"
      ],
      "metadata": {
        "id": "vIrU2p-oHfey"
      },
      "execution_count": null,
      "outputs": []
    },
    {
      "cell_type": "code",
      "source": [
        "valor_convet = int(valor)\n",
        "desconto = valor_convet - 5\n",
        "print(desconto)"
      ],
      "metadata": {
        "id": "fSjblp8IHfTS"
      },
      "execution_count": null,
      "outputs": []
    },
    {
      "cell_type": "markdown",
      "source": [
        "Condicionais"
      ],
      "metadata": {
        "id": "lA7NKR8LvFM-"
      }
    },
    {
      "cell_type": "code",
      "source": [
        "# If\n",
        "if 5 < 10:\n",
        "  print('verdade')"
      ],
      "metadata": {
        "id": "l6kpKDbIvIrF"
      },
      "execution_count": null,
      "outputs": []
    },
    {
      "cell_type": "code",
      "source": [
        "# If/else\n",
        "num1 = 10\n",
        "num2 = 5\n",
        "if num1 > num2:\n",
        "  print( 'Onum1 e o maior numero')\n",
        "else:\n",
        "  print('O num2 e o maior numero')\n"
      ],
      "metadata": {
        "id": "V8NSH3wWvfzE"
      },
      "execution_count": null,
      "outputs": []
    },
    {
      "cell_type": "code",
      "source": [
        "# If /  Elif / Else\n",
        "num1 = 10\n",
        "num2 = 10\n",
        "if num1 > num2:\n",
        "  print('O num1 e o maior numero')\n",
        "elif num1 > num2:\n",
        "  print('O num2 e o maior numero')\n",
        "else:\n",
        "  print('os dois sao iguais')\n",
        "\n"
      ],
      "metadata": {
        "id": "rLZoLq5Svfpj"
      },
      "execution_count": null,
      "outputs": []
    },
    {
      "cell_type": "markdown",
      "source": [
        "Condicionais com operadores logicos"
      ],
      "metadata": {
        "id": "y8vvBjGzwzA6"
      }
    },
    {
      "cell_type": "code",
      "source": [
        "num1 = 10\n",
        "num2 = 5\n",
        "num3 = 2\n",
        "if (num1> num2) and (num1 > num3):\n",
        "  print( 'o num1 e o maior numero')\n",
        "else:\n",
        "  print ('O num1 nao e o maior numero')"
      ],
      "metadata": {
        "id": "QeKnjmuRw35h"
      },
      "execution_count": null,
      "outputs": []
    }
  ]
}